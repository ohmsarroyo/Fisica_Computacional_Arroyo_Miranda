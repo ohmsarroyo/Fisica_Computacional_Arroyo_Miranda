{
 "cells": [
  {
   "cell_type": "markdown",
   "metadata": {},
   "source": [
    "### TAREA 18"
   ]
  },
  {
   "cell_type": "markdown",
   "metadata": {},
   "source": [
    "__Ejercicio1__: Escriba la forma del operador laplaciano utilizando diferencias finitas simétricas. Es decir, discretice: $\\nabla^2=\\frac{\\partial^2 f}{\\partial x^2}+\\frac{\\partial^2 f}{\\partial y^2}+\\frac{\\partial^2 f}{\\partial z^2}$"
   ]
  },
  {
   "cell_type": "markdown",
   "metadata": {},
   "source": [
    "sabíamos que con la derivada simétrica, y el desarrollo de Taylor para f(x+h) y f(x-h) se obteniene la segunda derivada: \n",
    "\n",
    "$$f^{''}(x)=\\frac{f(x-h)-2f(x)+f(x+h)}{h^{2}}+O(h^{2})$$"
   ]
  },
  {
   "cell_type": "markdown",
   "metadata": {},
   "source": [
    "de lo anterior podemos decir que cuando la función $f$ depende de tiene la dependencia de $x$, $y$, y $z$ sacando las derivadas parciales se tienen las siguientes expresiones:"
   ]
  },
  {
   "cell_type": "markdown",
   "metadata": {},
   "source": [
    "$$\\frac{\\partial^2 f}{\\partial x^2}=\\frac{f(x-h_{x},y,z)-2f(x,y,z)+f(x+h_{x},y,z)}{h_{x}^{2}}$$"
   ]
  },
  {
   "cell_type": "markdown",
   "metadata": {},
   "source": [
    "$$\\frac{\\partial^2 f}{\\partial y^2}=\\frac{f(x,y-h_{y},z)-2f(x,y,z)+f(x,y+h_{y},z)}{h_{y}^{2}}$$"
   ]
  },
  {
   "cell_type": "markdown",
   "metadata": {},
   "source": [
    "$$\\frac{\\partial^2 f}{\\partial z^2}=\\frac{f(x,y,z-h_{z})-2f(x,y,z)+f(x,y,z+h_{z})}{h_{z}^{2}}$$"
   ]
  },
  {
   "cell_type": "markdown",
   "metadata": {},
   "source": [
    "ahora tomamos los índices $(i,j,k)$ para denotar a las variables $(x,y,z)$ en la discretización de las ecuaciones anteriores, tal y como se hizo en el método de Euler para ecuaciones diferenciales ordinarias. "
   ]
  },
  {
   "cell_type": "markdown",
   "metadata": {},
   "source": [
    "$$\\frac{\\partial^2 f}{\\partial x^2}=\\frac{f_{i-1 , j , k}-2f_{i , j , k}+f_{i+1 , j , k}}{h_{x}^{2}}$$"
   ]
  },
  {
   "cell_type": "markdown",
   "metadata": {},
   "source": [
    "$$\\frac{\\partial^2 f}{\\partial y^2}=\\frac{f_{i, j-1, k}-2f_{i, j, k}+f_{i, j+1, k}}{h_{y}^{2}}$$"
   ]
  },
  {
   "cell_type": "markdown",
   "metadata": {},
   "source": [
    "$$\\frac{\\partial^2 f}{\\partial z^2}=\\frac{f_{i,j,k-1}-2f_{i, j, k}+f_{i, j, k+1}}{h_{z}^{2}}$$"
   ]
  },
  {
   "cell_type": "markdown",
   "metadata": {},
   "source": [
    "Así obtenemos la discretización de la ecuación de Laplace."
   ]
  },
  {
   "cell_type": "markdown",
   "metadata": {},
   "source": [
    "$$\\frac{f_{i-1 , j , k}-2f_{i , j , k}+f_{i+1 , j , k}}{h_{x}^{2}}+\\frac{f_{i, j-1, k}-2f_{i, j, k}+f_{i, j+1, k}}{h_{y}^{2}}+\\frac{f_{i,j,k-1}-2f_{i, j, k}+f_{i, j, k+1}}{h_{z}^{2}}=0$$"
   ]
  },
  {
   "cell_type": "markdown",
   "metadata": {},
   "source": [
    "__Ejercicio 2 (condiciones a la frontera de Dirichlet)__. Discretice la ecuación \n",
    "$$ \\frac{d^2f}{dx^2}, $$\n",
    "en el intervalo $[0,1]$, y aplicando el operador laplaciano discretizado obtenga el sistema de ecuaciones algebraicas lineales correspondientes al problema de _Dirichlet_:\n",
    "$f(0) = a$ y $f(1) = b$ dividiendo el intervalo $[0,1]$ en $5$ puntos separados por $h$."
   ]
  },
  {
   "cell_type": "markdown",
   "metadata": {},
   "source": [
    "Tomando la discretización del inciso anteior se tiene la siguiente ecuación: \n",
    "\n",
    "$$\\frac{f_{i-1 , j , k}-2f_{i , j , k}+f_{i+1 , j , k}}{h_{x}^{2}}=0$$"
   ]
  },
  {
   "cell_type": "markdown",
   "metadata": {},
   "source": [
    "Dividiendo el intervalo en cinco partes obtenemos los índices  $i=0,1,2,3,4,5$"
   ]
  },
  {
   "cell_type": "markdown",
   "metadata": {},
   "source": [
    "como los valores de $h$ son los mismos se tienen las siguientes ecuaciones que definen el sistema algebráico pedido: "
   ]
  },
  {
   "cell_type": "markdown",
   "metadata": {},
   "source": [
    "$$f_{0}-2f_{1}+f_{2}=0$$"
   ]
  },
  {
   "cell_type": "markdown",
   "metadata": {},
   "source": [
    "$$f_{1}-2f_{2}+f_{3}=0$$"
   ]
  },
  {
   "cell_type": "markdown",
   "metadata": {},
   "source": [
    "$$f_{2}-2f_{3}+f_{4}=0$$"
   ]
  },
  {
   "cell_type": "markdown",
   "metadata": {},
   "source": [
    "$$f_{3}-2f_{4}+f_{5}=0$$"
   ]
  },
  {
   "cell_type": "markdown",
   "metadata": {},
   "source": [
    "en este caso $f_{0}=a$ y $f_{5}=b$ asi el sistema de ecuaciones final con las condiciones de Dirichlet. "
   ]
  },
  {
   "cell_type": "markdown",
   "metadata": {},
   "source": [
    "$$a-2f_{1}+f_{2}=0$$"
   ]
  },
  {
   "cell_type": "markdown",
   "metadata": {},
   "source": [
    "$$f_{1}-2f_{2}+f_{3}=0$$"
   ]
  },
  {
   "cell_type": "markdown",
   "metadata": {},
   "source": [
    "$$f_{2}-2f_{3}+f_{4}=0$$"
   ]
  },
  {
   "cell_type": "markdown",
   "metadata": {},
   "source": [
    "$$f_{3}-2f_{4}+b=0$$"
   ]
  },
  {
   "cell_type": "markdown",
   "metadata": {},
   "source": [
    "__Ejercicio 3 (condiciones a la frontera de Neumann)__. Hacer lo mismo para condiciones de _Neumann_, es decir, fijando en los extremos el valor de la primera derivada de la función. Para esto utilice la derivada _hacia adeltante_ en las orillas, es decir, si $f'(0)=a$ y $f'(1)=b$, entonces $(f_1-f_0)/h=a$, etc. No olvide que debe resultar un sistema de ecuación cuya dimensión sea el número de incognitas."
   ]
  },
  {
   "cell_type": "markdown",
   "metadata": {},
   "source": [
    "De la penúltima expresión del inciso anterior y sabiendo que:\n",
    "$$\\frac{(f_1-f_0)}{h}=a$$ y $$\\frac{(f_5-f_4)}{h}=b$$ "
   ]
  },
  {
   "cell_type": "markdown",
   "metadata": {},
   "source": [
    "Obtenemos: "
   ]
  },
  {
   "cell_type": "markdown",
   "metadata": {},
   "source": [
    "$$2f_{1}-f_{0}-f_{2}=0$$"
   ]
  },
  {
   "cell_type": "markdown",
   "metadata": {},
   "source": [
    "$$f_{1}-2f_{2}+f_{3}=0$$"
   ]
  },
  {
   "cell_type": "markdown",
   "metadata": {},
   "source": [
    "$$f_{2}-2f_{3}+f_{4}=0$$"
   ]
  },
  {
   "cell_type": "markdown",
   "metadata": {},
   "source": [
    "$$f_{3}-2f_{4}+f_{5}=0$$"
   ]
  },
  {
   "cell_type": "markdown",
   "metadata": {},
   "source": [
    "Y aplicando la derivada hacia adelante.\n"
   ]
  },
  {
   "cell_type": "markdown",
   "metadata": {},
   "source": [
    "$$f_{1}+a-f_{2}=0$$"
   ]
  },
  {
   "cell_type": "markdown",
   "metadata": {},
   "source": [
    "$$f_{1}-2f_{2}+f_{3}=0$$"
   ]
  },
  {
   "cell_type": "markdown",
   "metadata": {},
   "source": [
    "$$f_{2}-2f_{3}+f_{4}=0$$"
   ]
  },
  {
   "cell_type": "markdown",
   "metadata": {},
   "source": [
    "$$f_{3}-f_{4}+b=0$$"
   ]
  },
  {
   "cell_type": "markdown",
   "metadata": {},
   "source": [
    "__Ejercicio 4 (indexación)__. `Julia` es más eficiente\n",
    "si se utiliza un único índice para acceder a los elementos\n",
    "de una matriz, además que puede simplificar algunos problemas. Escribe una función $\\phi$ que traduzca un par de\n",
    "índices $i,j$ a un único índice $k$, es decir:\n",
    "$$\\phi: (i,j) \\mapsto k.$$\n",
    "También encuentren $\\phi^{-1}$. Note que $\\phi$ deberá depender de las dimensiones del arreglo, por lo menos de una de ellas."
   ]
  },
  {
   "cell_type": "markdown",
   "metadata": {},
   "source": []
  }
 ],
 "metadata": {
  "kernelspec": {
   "display_name": "Julia 0.5.2",
   "language": "julia",
   "name": "julia-0.5"
  },
  "language_info": {
   "file_extension": ".jl",
   "mimetype": "application/julia",
   "name": "julia",
   "version": "0.5.2"
  }
 },
 "nbformat": 4,
 "nbformat_minor": 2
}
