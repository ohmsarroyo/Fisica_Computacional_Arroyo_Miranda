{
 "cells": [
  {
   "cell_type": "markdown",
   "metadata": {},
   "source": [
    "### TAREA 8 "
   ]
  },
  {
   "cell_type": "markdown",
   "metadata": {},
   "source": [
    "__Ejercicio 1__. Escribe una función `derivadaNumerica` que\n",
    "reciba: una función $f\\colon \\mathbb{R}\\mapsto\\mathbb{R}$,\n",
    "un punto $x_0\\in\\mathbb{R}$ y un número $h\\in\\mathbb{R}$. Esta función deberá calcular una aproximación a la\n",
    "derivada utilizando la definición indicada arriba ignorando\n",
    "la parte del límite. Es decir, algo como: `derivada_numerica(f,x,h)`."
   ]
  },
  {
   "cell_type": "code",
   "execution_count": 3,
   "metadata": {
    "collapsed": false
   },
   "outputs": [
    {
     "data": {
      "text/plain": [
       "derivada_numerica (generic function with 1 method)"
      ]
     },
     "execution_count": 3,
     "metadata": {},
     "output_type": "execute_result"
    }
   ],
   "source": [
    "function derivada_numerica(x,h,f::Function)\n",
    "    return  (f(x+h)-f(x))/h #aplicando la definción de derivada.\n",
    "end\n"
   ]
  },
  {
   "cell_type": "markdown",
   "metadata": {},
   "source": [
    "### prueba "
   ]
  },
  {
   "cell_type": "code",
   "execution_count": 5,
   "metadata": {
    "collapsed": false
   },
   "outputs": [
    {
     "data": {
      "text/plain": [
       "0.958853319162567"
      ]
     },
     "execution_count": 5,
     "metadata": {},
     "output_type": "execute_result"
    }
   ],
   "source": [
    "(x=5;h=0.0005;f(x)=cos(x); derivada_numerica(x,h,f))"
   ]
  },
  {
   "cell_type": "markdown",
   "metadata": {
    "collapsed": true
   },
   "source": [
    "__Ejercicio 7:__ Explotar la relación $\\delta_h=\\Delta_h-\\Delta_{-h}$, donde $\\delta_h:f(x)\\mapsto f(x+h)-f(x-h)$, para encontrar cual es la función $\\theta$ que relaciona a $\\delta_h$ con el operador derivada exacta, es decir:\n",
    "$$\\delta_h=\\theta\\left(h\\left. \\frac{d}{d\\xi}\\right|_{\\xi=x}\\right).$$\n",
    "\n",
    "Una vez que la encuentren, despejen $\\left. \\frac{d}{d\\xi}\\right|_{\\xi=x}$ y calculen la serie de Taylor de mánera similar a lo mostrado en las ecuaciones 3 y 4."
   ]
  },
  {
   "cell_type": "markdown",
   "metadata": {},
   "source": [
    "### Solución:\n",
    "Sabemos que los operadores de diferencia finita para $\"h\"$ y $\"-h\"$ son:  $\\Delta_h(f)=f(x+h)-f(x)$ y $\\Delta_{-h}(f)=f(x-h)-f(x)$ respectivamdente. Al restarlos se obtiene la relación mostrada para el operador $\\delta_h$.\n",
    "\n",
    "En clase vimos que los operadores son descritos por la función exponencial de la siguiente forma: \n",
    "\n",
    "$$\\Delta_{h}=\\exp(\\left. h\\frac{d}{d\\xi} \\right|_{\\xi=x})-1$$\n",
    "\n",
    "$$\\Delta_{-h}=\\exp(\\left. -h\\frac{d}{d\\xi} \\right|_{\\xi=x})-1$$\n",
    "\n",
    "Restamos las anteriores ecuaciones y obtenderemos el valor de  $\\delta_{h}$ el cual es: \n",
    " $$\\delta_{h}=\\exp(\\left. h\\frac{d}{d\\xi} \\right|_{\\xi=x})-\\exp(\\left. -h\\frac{d}{d\\xi} \\right|_{\\xi=x})$$\n",
    " \n",
    "Recordando que el seno hiperbólico se define como: $\\sinh(x)=\\frac{e^{x}-e^{-x}}{2}$ se tendrá:\n",
    " \n",
    " $$\\delta_{h}=2\\sinh(\\left. h\\frac{d}{d\\xi} \\right|_{\\xi=x})$$ \n",
    " \n",
    " Y al despejar la derivada: \n",
    " $$\\frac{1}{h}\\sinh^{-1}(\\frac{1}{2}\\delta_{h})=\\left. \\frac{d}{d\\xi} \\right|_{\\xi=x}$$"
   ]
  },
  {
   "cell_type": "markdown",
   "metadata": {},
   "source": [
    "Y el polinomio de taylor del seno hiperbólico inverso es: $\\sinh^{-1}(x)=x-\\frac{x^{3}}{6}+\\frac{3x^{5}}{40}+O(x^{6})$"
   ]
  },
  {
   "cell_type": "markdown",
   "metadata": {},
   "source": [
    "escribiendo la ecuación con el desarrollo: \n",
    "$$\\left. \\frac{d}{d\\xi} \\right|_{\\xi=x}=\\frac{1}{h}(\\frac{\\delta_{h}}{2}-\\frac{\\delta_{h}^{3}}{12}+\\frac{3\\delta_{h}^{5}}{80}+...)$$"
   ]
  },
  {
   "cell_type": "markdown",
   "metadata": {
    "collapsed": true
   },
   "source": [
    "Finalmente, si tomamos los primeros dos términos de la serie y aplicamos a $f(x)$ se obtiene: \n",
    "$$\\left. \\frac{d}{d\\xi} \\right|_{\\xi=x}f(x)=\\frac{\\frac{\\delta_{h}}{2}f(x)-\\frac{\\delta_{h}^{3}}{12}f(x)}{h}+O(h^{4})$$"
   ]
  },
  {
   "cell_type": "markdown",
   "metadata": {},
   "source": [
    "EL hecho que el valor $O(h^{4})$ tenga ese grado indica que exisitirá un menor error relativo para este método. "
   ]
  }
 ],
 "metadata": {
  "kernelspec": {
   "display_name": "Julia 0.6.0",
   "language": "julia",
   "name": "julia-0.6"
  },
  "language_info": {
   "file_extension": ".jl",
   "mimetype": "application/julia",
   "name": "julia",
   "version": "0.6.0"
  }
 },
 "nbformat": 4,
 "nbformat_minor": 2
}
