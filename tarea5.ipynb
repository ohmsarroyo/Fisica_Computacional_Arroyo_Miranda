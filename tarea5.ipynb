{
 "cells": [
  {
   "cell_type": "markdown",
   "metadata": {},
   "source": [
    "### MÉTODO DE INTEGRACIÓN DE RIEMANN"
   ]
  },
  {
   "cell_type": "markdown",
   "metadata": {},
   "source": [
    "La suma de Riemann consiste en trazar un número finito de rectángulos dentro de un área irregular, calcular el área de cada uno de ellos y sumarlos de la siguiente forma:\n",
    "\n",
    "Sea $f$ una función definida en D subconjunto de los reales y un intevalo $[a,b]$ contenido en D.\n",
    "Realizando una partición sobre dicho intevalo, tal que:  \n",
    "$P = \\{[a=x_{0}, x_{1}), [x_{1}, x_{2}), ... ,[x_{n-1}, x_{n}=b]\\}$ obtenemos la suma de Riemann de $f$ sobre P como: \n",
    "\n",
    " $$\\sum_{i=0}^n f(y_{i})\\, (x_{i}-x_{i-1})$$ \n",
    " Con $y_{i}=x_{i-1}$, esto es, se evaluan los puntos de la partición en la función para obtener las alturas de los rectángulos. La suma anterior cuando el número de rectangulos (n) tiende a infinito, convergerá a la integral de la función en el intervalo usado, esto es: \n",
    " $$\\int_a^b f(x)\\,dx \\approx \\sum_{i=0}^\\infty f(y_{i})\\, (x_{i}-x_{i-1})$$\n"
   ]
  },
  {
   "cell_type": "markdown",
   "metadata": {},
   "source": [
    "### REGLA DEL TRAPECIO. "
   ]
  },
  {
   "cell_type": "markdown",
   "metadata": {},
   "source": [
    "Este método se basa en aproximar la integral de una función lineal al de una función $f(x)$ definida en un intervalo $[a,b]$ a traves de los puntos $(a,f(a))$ y $(b,f(b))$. \n",
    "La integral será igual al área del trapecio bajo la gráfica de la función lineal, esta última se define como:\n",
    "$$P_n(x)=f(a)+\\frac{f(b)-f(a)}{b-a}(x-a)$$\n",
    "luego tenemos: \n",
    "$$\\int_a^b f(x)\\,dx \\approx \\int_a^b f(a)+\\frac{f(b)-f(a)}{b-a}(x-a)\\,dx$$\n",
    "y resolviendo la integral se obtiene que: \n",
    "$$\\int_a^b f(x)\\,dx \\approx  \\frac{f(b)+f(a)}{2}(b-a)$$.\n",
    "Donde efectivamente el lado derecho de la ecuación anterior es el área del trapecio. \n",
    "Dado que el cálculo solo es aproximado, se contempla un error correspondiente a:\n",
    "$$E=\\frac{1}{12}f\"(\\psi)(b-a)^{3}$$ con $\\psi$ en $[a,b]$.\n",
    "Finalmente, análogo al método de los rectángulos de Riemann se puede hacer una partición de intervalo de integración y formando los trapecios para cada subintervalo y sumándolos, se obtendrá el valor aproximado de la integral. "
   ]
  },
  {
   "cell_type": "markdown",
   "metadata": {},
   "source": [
    " ### REGLA DE SIMPSON DE ORDEN 2. "
   ]
  },
  {
   "cell_type": "markdown",
   "metadata": {},
   "source": [
    "En el anterior método se usó una función lineal para aproximar el valor de la integral de $f(x)$ pero ahora si se usa un polinomio de segundo orden se obtiene lo siguiente: \n",
    "$$ P(x) = f(a) \\tfrac{(x-m)(x-b)}{(a-m)(a-b)} + f(m) \\tfrac{(x-a)(x-b)}{(m-a)(m-b)} + f(b) \\tfrac{(x-a)(x-m)}{(b-a)(b-m)}, $$\n",
    "y  $m=(a+b)/2$.\n",
    "\n",
    "La anterior función se obtiene por medio del método de interpolación polinómica de Legendre.\n",
    "\n",
    "Dicho método de interpolación consiste tomar un conjunto de puntos para este caso de la forma $(x_{i},f(x_{i}))$ donde se suponen todos distintos.\n",
    "Aplicando sobre las primeras entradas, la función de bases polinomiales: \n",
    "\n",
    "$$l_{j}(x) = \\prod_{0 \\le m \\le k \\atop m \\ne j} \\frac{x-x_{m}}{x_{j}-x_{m}}$$\n",
    " \n",
    "La cual es una función delta de Kronecker.\n",
    "\n",
    "Al hacer una combinación lineal de las evaluaciones en la función anterior y donde los coeficieintes son los valores $f(x_{i})$\n",
    "$$P(x)= \\sum_{i=0}^{k}y_{i}l_{i}(x)$$\n",
    "\n",
    "Obteniendo que el valor de la integral de $f$ sobre $[a,b]$:\n",
    "$$\\int_a^b f(x)\\,dx = \\int_a^b P(x)\\,dx + E=\\tfrac{b-a}{6}\\left[f(a) + 4f(m)+f(b)\\right]+E $$\n",
    "\n",
    "Siendo E el error del método definido como: \n",
    "$$E=-\\frac{h^{5}}{90}f^{4}(\\psi)$$  $h=\\frac{b-a}{2}$ y $\\psi$ en el intervalo. "
   ]
  }
 ],
 "metadata": {
  "kernelspec": {
   "display_name": "Julia 0.6.0",
   "language": "julia",
   "name": "julia-0.6"
  },
  "language_info": {
   "file_extension": ".jl",
   "mimetype": "application/julia",
   "name": "julia",
   "version": "0.6.0"
  }
 },
 "nbformat": 4,
 "nbformat_minor": 2
}
