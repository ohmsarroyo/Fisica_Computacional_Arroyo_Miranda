{
 "cells": [
  {
   "cell_type": "markdown",
   "metadata": {},
   "source": [
    "###  CAMINATAS CLÁSICAS"
   ]
  },
  {
   "cell_type": "markdown",
   "metadata": {},
   "source": [
    "Vamos a usar la funcion $rand()$ para generar un valor aleatorio en el intevalo $[0,1]$"
   ]
  },
  {
   "cell_type": "markdown",
   "metadata": {},
   "source": [
    "Vamos primero a crear una función que nos describa al caminante y dad una cantidad digamos \"n\" de lanzamientos de volado. "
   ]
  },
  {
   "cell_type": "markdown",
   "metadata": {},
   "source": [
    "Como primera aproximación escribimos la función \"volado\" para describir un vector que nos de n lanzamientos de volado, denotando por ejemplo con -1 a sol y 1 como águila."
   ]
  },
  {
   "cell_type": "code",
   "execution_count": 1,
   "metadata": {},
   "outputs": [
    {
     "data": {
      "text/plain": [
       "volado (generic function with 1 method)"
      ]
     },
     "execution_count": 1,
     "metadata": {},
     "output_type": "execute_result"
    }
   ],
   "source": [
    "function volado(n)\n",
    "    rand(-1:2:1,n)\n",
    "end"
   ]
  },
  {
   "cell_type": "markdown",
   "metadata": {},
   "source": [
    "Por ejemplo para 10 volados:"
   ]
  },
  {
   "cell_type": "code",
   "execution_count": 2,
   "metadata": {},
   "outputs": [
    {
     "data": {
      "text/plain": [
       "10-element Array{Int64,1}:\n",
       "  1\n",
       "  1\n",
       "  1\n",
       " -1\n",
       "  1\n",
       " -1\n",
       " -1\n",
       " -1\n",
       "  1\n",
       " -1"
      ]
     },
     "execution_count": 2,
     "metadata": {},
     "output_type": "execute_result"
    }
   ],
   "source": [
    "volado(10)"
   ]
  },
  {
   "cell_type": "markdown",
   "metadata": {},
   "source": [
    "observamos que nos da seis veces sol y cuatro águila"
   ]
  },
  {
   "cell_type": "markdown",
   "metadata": {},
   "source": [
    "Con lo anterior debemos ser capaces de escribir un algoritmo que nos diga cual es la posición final de un caminante después de lanzar n veces la moneda. "
   ]
  },
  {
   "cell_type": "markdown",
   "metadata": {},
   "source": [
    "Y lo hacemos con la siguiente rutina: "
   ]
  },
  {
   "cell_type": "code",
   "execution_count": 3,
   "metadata": {},
   "outputs": [
    {
     "data": {
      "text/plain": [
       "posicion_final (generic function with 1 method)"
      ]
     },
     "execution_count": 3,
     "metadata": {},
     "output_type": "execute_result"
    }
   ],
   "source": [
    "function posicion_final(n) #construimos la función que le pide al usuario el número de volados. \n",
    "    b=volado(n)#usamos la función volado para crear el vector b que tiene como componentes los valores: 1 y -1\n",
    "    p=0 #vamos a partir del punto cero en la  recta númerica \n",
    "    for i in 1:n #ahora lo que haremos es sumar las entradas del vector b i.e. sumar 1 y -1 para decirle al caminante si va a la derecha o izquierda respectivamente. \n",
    "    p=b[i]+p\n",
    "end\n",
    "return p #imprimimos el valor p que corresponde a la posición final del caminante después de los n pasos. \n",
    "end"
   ]
  },
  {
   "cell_type": "code",
   "execution_count": 4,
   "metadata": {},
   "outputs": [
    {
     "data": {
      "text/plain": [
       "1"
      ]
     },
     "execution_count": 4,
     "metadata": {},
     "output_type": "execute_result"
    }
   ],
   "source": [
    "posicion_final(1) #comprobamos nuestra rutina primero con un volado pues solo tendremos 2 valores posibles para la localización final del caminante, i.e. 1 o menos 1 "
   ]
  },
  {
   "cell_type": "code",
   "execution_count": 5,
   "metadata": {},
   "outputs": [
    {
     "data": {
      "text/plain": [
       "0"
      ]
     },
     "execution_count": 5,
     "metadata": {},
     "output_type": "execute_result"
    }
   ],
   "source": [
    "posicion_final(10) #en este caso el codigo se lee como: después de lanzar diez veces la moneda, el caminante queda en la posición -2 en la recta."
   ]
  },
  {
   "cell_type": "markdown",
   "metadata": {},
   "source": [
    "Ahora nuestra meta es encontrar la posición final para un número k de caminantes. "
   ]
  },
  {
   "cell_type": "markdown",
   "metadata": {},
   "source": [
    "Pondremos dentro de un ciclo for nuestra rutina anterior y guardaremos las distancias finales en una lista para después hacer el histograma. "
   ]
  },
  {
   "cell_type": "code",
   "execution_count": 6,
   "metadata": {},
   "outputs": [
    {
     "data": {
      "text/plain": [
       "fin (generic function with 1 method)"
      ]
     },
     "execution_count": 6,
     "metadata": {},
     "output_type": "execute_result"
    }
   ],
   "source": [
    "function fin(n,k) #le pedimos al usuario tanto el número de volados \"n\" y el de caminantes \"k\"\n",
    "    listf=zeros(k) #construimos una lista con k entradas con ceros \n",
    "    for i in 1:k #este ciclo for se usa para encontrar la distancia final de los k caminantes haciendo uso de la función de posicion_final\n",
    "        d=posicion_final(n)\n",
    "        listf[i]=d  #se llena la lista con las posiciones finales \n",
    "        end \n",
    "    return listf\n",
    "    end \n",
    "        \n",
    "    "
   ]
  },
  {
   "cell_type": "code",
   "execution_count": 7,
   "metadata": {},
   "outputs": [
    {
     "data": {
      "text/plain": [
       "100-element Array{Float64,1}:\n",
       " -2.0\n",
       " -2.0\n",
       " -2.0\n",
       "  0.0\n",
       " -2.0\n",
       " -2.0\n",
       "  0.0\n",
       " -4.0\n",
       "  2.0\n",
       " -2.0\n",
       " -2.0\n",
       "  0.0\n",
       "  2.0\n",
       "  ⋮  \n",
       " -2.0\n",
       "  0.0\n",
       " -4.0\n",
       "  0.0\n",
       "  2.0\n",
       "  2.0\n",
       "  8.0\n",
       "  4.0\n",
       " -2.0\n",
       " -4.0\n",
       "  0.0\n",
       " -8.0"
      ]
     },
     "execution_count": 7,
     "metadata": {},
     "output_type": "execute_result"
    }
   ],
   "source": [
    "fin(10,100) #ejemplo de la función fin para 10 volados y cien caminantes"
   ]
  },
  {
   "cell_type": "markdown",
   "metadata": {},
   "source": [
    "Haremos el histograma "
   ]
  },
  {
   "cell_type": "code",
   "execution_count": 8,
   "metadata": {},
   "outputs": [
    {
     "data": {
      "text/plain": [
       "100-element Array{Float64,1}:\n",
       " -1.0\n",
       " -1.0\n",
       "  1.0\n",
       "  1.0\n",
       "  1.0\n",
       " -1.0\n",
       " -1.0\n",
       "  1.0\n",
       " -1.0\n",
       "  1.0\n",
       " -1.0\n",
       "  1.0\n",
       " -1.0\n",
       "  ⋮  \n",
       "  1.0\n",
       " -1.0\n",
       " -1.0\n",
       " -1.0\n",
       " -1.0\n",
       "  1.0\n",
       " -1.0\n",
       " -1.0\n",
       " -1.0\n",
       " -1.0\n",
       "  1.0\n",
       " -1.0"
      ]
     },
     "execution_count": 8,
     "metadata": {},
     "output_type": "execute_result"
    }
   ],
   "source": [
    "fin(1,100) #cuando solo hacemos 1 volado para caminante solo nos salen unos y menos uno como un esperaría"
   ]
  },
  {
   "cell_type": "code",
   "execution_count": 9,
   "metadata": {},
   "outputs": [
    {
     "name": "stderr",
     "output_type": "stream",
     "text": [
      "\u001b[1m\u001b[34mINFO: Initializing package repository /home/juser/.julia/v0.5\n",
      "\u001b[0m\u001b[1m\u001b[34mINFO: Cloning METADATA from https://github.com/JuliaLang/METADATA.jl\n",
      "\u001b[0m"
     ]
    },
    {
     "ename": "LoadError",
     "evalue": "GitError(Code:ERROR, Class:OS, Could not open '/home/juser/.julia/v0.5/tmpk7hZpc/METADATA/Xpress/versions/0.0.2/requires' for writing: No space left on device)",
     "output_type": "error",
     "traceback": [
      "GitError(Code:ERROR, Class:OS, Could not open '/home/juser/.julia/v0.5/tmpk7hZpc/METADATA/Xpress/versions/0.0.2/requires' for writing: No space left on device)",
      "",
      " in macro expansion at ./libgit2/error.jl:99 [inlined]",
      " in clone(::String, ::String, ::Base.LibGit2.CloneOptions) at ./libgit2/repository.jl:191",
      " in #clone#112(::String, ::Bool, ::Ptr{Void}, ::Nullable{Base.LibGit2.AbstractCredentials}, ::Function, ::String, ::String) at ./libgit2/libgit2.jl:327",
      " in (::Base.LibGit2.#kw##clone)(::Array{Any,1}, ::Base.LibGit2.#clone, ::String, ::String) at ./<missing>:0",
      " in (::Base.Pkg.Dir.##4#6{String,String})() at ./pkg/dir.jl:49",
      " in cd(::Base.Pkg.Dir.##4#6{String,String}, ::String) at ./file.jl:59",
      " in init(::String, ::String) at ./pkg/dir.jl:47",
      " in #cd#1(::Array{Any,1}, ::Function, ::Function, ::String, ::Vararg{Any,N}) at ./pkg/dir.jl:28",
      " in add(::String) at ./pkg/pkg.jl:100",
      " in include_string(::String, ::String) at ./loading.jl:441"
     ]
    }
   ],
   "source": [
    "Pkg.add(\"Plots\")"
   ]
  },
  {
   "cell_type": "code",
   "execution_count": null,
   "metadata": {},
   "outputs": [],
   "source": []
  },
  {
   "cell_type": "code",
   "execution_count": null,
   "metadata": {},
   "outputs": [],
   "source": []
  },
  {
   "cell_type": "code",
   "execution_count": 10,
   "metadata": {},
   "outputs": [
    {
     "ename": "LoadError",
     "evalue": "ArgumentError: Module Plots not found in current path.\nRun `Pkg.add(\"Plots\")` to install the Plots package.",
     "output_type": "error",
     "traceback": [
      "ArgumentError: Module Plots not found in current path.\nRun `Pkg.add(\"Plots\")` to install the Plots package.",
      "",
      " in require(::Symbol) at ./loading.jl:365",
      " in include_string(::String, ::String) at ./loading.jl:441"
     ]
    }
   ],
   "source": [
    "using Plots \n"
   ]
  }
 ],
 "metadata": {
  "kernelspec": {
   "display_name": "Julia 0.5.2",
   "language": "julia",
   "name": "julia-0.5"
  },
  "language_info": {
   "file_extension": ".jl",
   "mimetype": "application/julia",
   "name": "julia",
   "version": "0.5.2"
  }
 },
 "nbformat": 4,
 "nbformat_minor": 2
}
