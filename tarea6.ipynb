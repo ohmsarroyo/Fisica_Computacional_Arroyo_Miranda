{
 "cells": [
  {
   "cell_type": "markdown",
   "metadata": {},
   "source": [
    "### TAREA 6"
   ]
  },
  {
   "cell_type": "markdown",
   "metadata": {},
   "source": [
    "__Ejercicio 1__: Implementar el método de integración del rectángulo. Deberán construir una _rutina_ que reciba una función y el tamaño de la diferencia finita, y devuelva el valor aproximado de la integral. Para hacer esto deberán dividir el intervalo de integración en segmentos pequeños y aplicar la fórmula de arriba."
   ]
  },
  {
   "cell_type": "code",
   "execution_count": 16,
   "metadata": {
    "collapsed": false
   },
   "outputs": [
    {
     "data": {
      "text/plain": [
       "IntRiemann (generic function with 1 method)"
      ]
     },
     "execution_count": 16,
     "metadata": {},
     "output_type": "execute_result"
    }
   ],
   "source": [
    "function IntRiemann(a,b,k,f::Function)  \n",
    "    r=0\n",
    "    for i in 1:k # este for indica que vamos a calcular k veces lo siguiente: se calcula el valor de f aplicado al argumento mostrado a continuación donde a y b son los extremos del intervalo y d el número de divisiones. \n",
    "        p=f((a+i*(b-a)/d))\n",
    "        r+=p   # esta parte suma todos los valores de p obtenidos con el ciclo de for y los guarda en la variable r, que antes se había definido como cero. \n",
    "    end\n",
    "    F=((b-a)/d)*r #finalmente la suma anterior se multiplica por la longitud del intervalo sobre el valor de \"d\".\n",
    "    return F\n",
    "end\n"
   ]
  },
  {
   "cell_type": "markdown",
   "metadata": {},
   "source": [
    "### Pruebas "
   ]
  },
  {
   "cell_type": "code",
   "execution_count": 17,
   "metadata": {
    "collapsed": false
   },
   "outputs": [
    {
     "data": {
      "text/plain": [
       "2.6666523423451878"
      ]
     },
     "execution_count": 17,
     "metadata": {},
     "output_type": "execute_result"
    }
   ],
   "source": [
    "(d=1e^12;a=0;b=2;k=1e^12;f(x)=x^2; IntRiemann(a,b,k,f)) "
   ]
  },
  {
   "cell_type": "code",
   "execution_count": 3,
   "metadata": {
    "collapsed": false
   },
   "outputs": [
    {
     "data": {
      "text/plain": [
       "1.1532169827958257e6"
      ]
     },
     "execution_count": 3,
     "metadata": {},
     "output_type": "execute_result"
    }
   ],
   "source": [
    "(d=1e^12;a=0;b=2;k=1e^12;f(x)=tan(x)^2; IntRiemann(a,b,k,f)) "
   ]
  },
  {
   "cell_type": "markdown",
   "metadata": {},
   "source": [
    "__Ejercicio 2:__ Implementar método del trapecio de la misma forma que el ejercicio anterior."
   ]
  },
  {
   "cell_type": "code",
   "execution_count": 18,
   "metadata": {
    "collapsed": false
   },
   "outputs": [
    {
     "data": {
      "text/plain": [
       "Inttrapecio (generic function with 1 method)"
      ]
     },
     "execution_count": 18,
     "metadata": {},
     "output_type": "execute_result"
    }
   ],
   "source": [
    "function Inttrapecio(a,b,k,f::Function)  \n",
    "    r=0\n",
    "    V=linspace(a,b,k) #se construye un intervalo con extremos a y b y dividido en k partes.\n",
    "    for i in 1:k-1 #con la fórmula vista en clase dentro del for se calcula el valor aproximado de la integral para cada subintervalo. tomando valores contiguos del intervalo definido arriba  \n",
    "        m=(V[i+1]-V[i])*((f(V[i])+f(V[i+1]))/2)\n",
    "        r+=m # se suman todos los valores de m  para proceder a imprimirlos  y obtener el valor aprox. de la integral.\n",
    "    end \n",
    "  \n",
    "    return r\n",
    "end\n"
   ]
  },
  {
   "cell_type": "markdown",
   "metadata": {},
   "source": [
    "### Prueba "
   ]
  },
  {
   "cell_type": "code",
   "execution_count": 15,
   "metadata": {
    "collapsed": false
   },
   "outputs": [
    {
     "data": {
      "text/plain": [
       "2.666666666666477"
      ]
     },
     "execution_count": 15,
     "metadata": {},
     "output_type": "execute_result"
    }
   ],
   "source": [
    "(a=0;b=2;k=1000000000;f(x)=x^2; Inttrapecio(a,b,k,f)) "
   ]
  },
  {
   "cell_type": "code",
   "execution_count": 19,
   "metadata": {
    "collapsed": false
   },
   "outputs": [
    {
     "data": {
      "text/plain": [
       "2.6666680026706744"
      ]
     },
     "execution_count": 19,
     "metadata": {},
     "output_type": "execute_result"
    }
   ],
   "source": [
    "(a=0;b=2;k=1000;f(x)=x^2; Inttrapecio(a,b,k,f)) "
   ]
  },
  {
   "cell_type": "code",
   "execution_count": null,
   "metadata": {
    "collapsed": true
   },
   "outputs": [],
   "source": [
    "#dos distintos intervalos, donde observamos que si hacemos un refinamiento del intervalo se acerca mas al valor de la integral. "
   ]
  },
  {
   "cell_type": "markdown",
   "metadata": {},
   "source": [
    "__Ejercicio 3:__ Implementar método de Simpson de la misma forma que el ejercicio anterior."
   ]
  },
  {
   "cell_type": "code",
   "execution_count": null,
   "metadata": {
    "collapsed": true
   },
   "outputs": [],
   "source": [
    "function Intsimpson(a,b,k,f::Function)  \n",
    "    r=0\n",
    "    V=linspace(a,b,k)\n",
    "    for i in 1:k\n",
    "        m=((V[i+1]-V[i])/6)*(f(V[i])+f(V[i+1]))/2\n",
    "        r+=m\n",
    "    end \n",
    "  \n",
    "    return r\n",
    "end\n",
    "\n",
    "     \n",
    "end \n"
   ]
  },
  {
   "cell_type": "code",
   "execution_count": null,
   "metadata": {
    "collapsed": true
   },
   "outputs": [],
   "source": []
  }
 ],
 "metadata": {
  "kernelspec": {
   "display_name": "Julia 0.6.0",
   "language": "julia",
   "name": "julia-0.6"
  },
  "language_info": {
   "file_extension": ".jl",
   "mimetype": "application/julia",
   "name": "julia",
   "version": "0.6.0"
  }
 },
 "nbformat": 4,
 "nbformat_minor": 2
}
